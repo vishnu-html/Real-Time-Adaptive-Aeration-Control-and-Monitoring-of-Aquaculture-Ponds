{
 "cells": [
  {
   "cell_type": "code",
   "execution_count": 16,
   "id": "301e1820-3c98-4f99-be82-41f77dffc223",
   "metadata": {},
   "outputs": [
    {
     "name": "stdout",
     "output_type": "stream",
     "text": [
      "Fetching real-time sensor values...\n",
      "tds: 100.0\n",
      "turbidity: 0.0\n",
      "pH: 8.0\n",
      "mq4: 49.0\n",
      "temperature: 32.0\n",
      "humidity: 71.0\n",
      "rain: 0.0\n",
      "\n",
      "Error: The feature names should match those that were passed during fit.\n",
      "Feature names unseen at fit time:\n",
      "- tempre\n",
      "Feature names seen at fit time, yet now missing:\n",
      "- temperature\n",
      "\n"
     ]
    }
   ],
   "source": [
    "import pandas as pd\n",
    "import joblib  # For loading .pkl files\n",
    "import requests  # For making API calls\n",
    "\n",
    "# Load the trained Random Forest model, scaler, and label encoder\n",
    "rf_model = joblib.load('gb_model.pkl')  # Replace with the correct path if needed\n",
    "scaler = joblib.load('scaler.pkl')     # Replace with the correct path if needed\n",
    "label_encoder = joblib.load('label_encoder.pkl')  # Replace with the correct path if needed\n",
    "\n",
    "# Blynk API URLs for real-time sensor values and result upload\n",
    "tds = \"https://blynk.cloud/external/api/get?token=FbQw1KDQ3w-5698oJsygi9QC13xrWxng&V0\"\n",
    "turbidity = \"https://blynk.cloud/external/api/get?token=FbQw1KDQ3w-5698oJsygi9QC13xrWxng&V1\"\n",
    "pH = \"https://blynk.cloud/external/api/get?token=FbQw1KDQ3w-5698oJsygi9QC13xrWxng&V2\"\n",
    "mq4 = \"https://blynk.cloud/external/api/get?token=FbQw1KDQ3w-5698oJsygi9QC13xrWxng&V3\"\n",
    "temperature = \"https://blynk.cloud/external/api/get?token=FbQw1KDQ3w-5698oJsygi9QC13xrWxng&V4\"\n",
    "humidity = \"https://blynk.cloud/external/api/get?token=FbQw1KDQ3w-5698oJsygi9QC13xrWxng&V5\"\n",
    "rain = \"https://blynk.cloud/external/api/get?token=FbQw1KDQ3w-5698oJsygi9QC13xrWxng&V6\"\n",
    "RESULT_UPLOAD_URL = \"https://blynk.cloud/external/api/update?token=FbQw1KDQ3w-5698oJsygi9QC13xrWxng&V8={}\"\n",
    "RESULT_UPLOAD_URL1 = \"https://blynk.cloud/external/api/update?token=FbQw1KDQ3w-5698oJsygi9QC13xrWxng&V11={}\"\n",
    "\n",
    "def get_sensor_value(url):\n",
    "    response = requests.get(url)\n",
    "    if response.status_code == 200:\n",
    "        return float(response.text.strip())\n",
    "    else:\n",
    "        raise Exception(f\"Failed to fetch data from {url}. HTTP Status Code: {response.status_code}\")\n",
    "\n",
    "def upload_result_to_blynk(result):\n",
    "    response = requests.get(RESULT_UPLOAD_URL.format(result))\n",
    "    if response.status_code == 200:\n",
    "        print(f\"Result '{result}' successfully uploaded to Blynk.\")\n",
    "    else:\n",
    "        raise Exception(f\"Failed to upload result to Blynk. HTTP Status Code: {response.status_code}\")\n",
    "\n",
    "\n",
    "def upload_result_to_blynk1(result):\n",
    "    response = requests.get(RESULT_UPLOAD_URL1.format(result))\n",
    "    if response.status_code == 200:\n",
    "        print(f\"Result '{result}' successfully uploaded to Blynk.\")\n",
    "    else:\n",
    "        raise Exception(f\"Failed to upload result to Blynk. HTTP Status Code: {response.status_code}\")\n",
    "\n",
    "def disaster(tds, turbidity, pH, mq4, temperature, humidity, rain):\n",
    "\n",
    "    # Create a DataFrame from the input values\n",
    "    new_data = pd.DataFrame({\n",
    "        'tds': [tds],\n",
    "        'turbidity': [turbidity],\n",
    "        'pH': [pH],\n",
    "        'mq4': [mq4],\n",
    "        'tempre': [temperature],\n",
    "        'humidity': [humidity],\n",
    "        'rain': [rain]\n",
    "    })\n",
    "    \n",
    "    # Scale the new data using the loaded scaler\n",
    "    new_data_scaled = scaler.transform(new_data)\n",
    "    \n",
    "    # Make predictions using the loaded Random Forest model\n",
    "    dt_prediction = rf_model.predict(new_data_scaled)\n",
    "    \n",
    "    # Convert numerical prediction back to the original label\n",
    "    result = label_encoder.inverse_transform(dt_prediction)\n",
    "    \n",
    "    return result[0]\n",
    "\n",
    "# Main function to fetch real-time sensor values, make a prediction, and upload the result\n",
    "if __name__ == \"__main__\":\n",
    "    try:\n",
    "        print(\"Fetching real-time sensor values...\")\n",
    "        \n",
    "        # Fetch real-time sensor values\n",
    "        tds = get_sensor_value(tds)\n",
    "        turbidity = get_sensor_value(turbidity)\n",
    "        pH = get_sensor_value(pH)\n",
    "        mq4 = get_sensor_value(mq4)\n",
    "        temperature = get_sensor_value(temperature)\n",
    "        humidity = get_sensor_value(humidity)\n",
    "        rain = get_sensor_value(rain)\n",
    "        \n",
    "        print(f\"tds: {tds}\")\n",
    "        print(f\"turbidity: {turbidity}\")\n",
    "        print(f\"pH: {pH}\")\n",
    "        print(f\"mq4: {mq4}\")\n",
    "        print(f\"temperature: {temperature}\")\n",
    "        print(f\"humidity: {humidity}\")\n",
    "        print(f\"rain: {rain}\")\n",
    "        \n",
    "        # Predict the disaster type\n",
    "        predicted_result = disaster(tds, turbidity, pH, mq4, temperature, humidity, rain)\n",
    "        \n",
    "        # Display the prediction\n",
    "        print(\"\\nPredicted Result:\", predicted_result)\n",
    "\n",
    "        if predicted_result==\"Low\":\n",
    "            upload_result_to_blynk1(1)\n",
    "        else:\n",
    "            upload_result_to_blynk1(0)\n",
    "\n",
    "        # Upload the prediction result to Blynk\n",
    "        upload_result_to_blynk(predicted_result)\n",
    "        \n",
    "    except Exception as e:\n",
    "        print(\"\\nError:\", str(e))\n"
   ]
  },
  {
   "cell_type": "markdown",
   "id": "a2d9b694-71f5-40b5-af24-d340f1ef6b2d",
   "metadata": {},
   "source": [
    "\n"
   ]
  },
  {
   "cell_type": "code",
   "execution_count": 18,
   "id": "3f061bb8-ad31-4aa2-af9b-6c0f321c982d",
   "metadata": {},
   "outputs": [
    {
     "name": "stdout",
     "output_type": "stream",
     "text": [
      "Successfully fetched the data\n"
     ]
    }
   ],
   "source": [
    "print(\"Successfully fetched the data\")"
   ]
  },
  {
   "cell_type": "code",
   "execution_count": null,
   "id": "c31febe2-f86c-4559-8a40-61759fe8affc",
   "metadata": {},
   "outputs": [],
   "source": []
  }
 ],
 "metadata": {
  "kernelspec": {
   "display_name": "Python [conda env:base] *",
   "language": "python",
   "name": "conda-base-py"
  },
  "language_info": {
   "codemirror_mode": {
    "name": "ipython",
    "version": 3
   },
   "file_extension": ".py",
   "mimetype": "text/x-python",
   "name": "python",
   "nbconvert_exporter": "python",
   "pygments_lexer": "ipython3",
   "version": "3.12.7"
  }
 },
 "nbformat": 4,
 "nbformat_minor": 5
}
